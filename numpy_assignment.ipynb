{
 "cells": [
  {
   "cell_type": "markdown",
   "id": "839ce4ea",
   "metadata": {},
   "source": [
    "## Numpy Assignment"
   ]
  },
  {
   "cell_type": "markdown",
   "id": "5ff523c8",
   "metadata": {},
   "source": [
    "Ques1:  Compare element of numpy array.\n",
    "\n",
    "Return True; if all elements are same.\n",
    "\n",
    "Return False; if all elements are not same.\n",
    "\n",
    "first_array = np.array([[1, 2], [3, 4]])\n",
    "\n",
    "second_array = np.array([[1, 2], [3, 4]])"
   ]
  },
  {
   "cell_type": "code",
   "execution_count": 1,
   "id": "4cb5448d",
   "metadata": {},
   "outputs": [
    {
     "data": {
      "text/plain": [
       "True"
      ]
     },
     "execution_count": 1,
     "metadata": {},
     "output_type": "execute_result"
    }
   ],
   "source": [
    "import numpy as np\n",
    "def compare(first_array,second_array):\n",
    "    equal=first_array==second_array\n",
    "    return equal.all()\n",
    "first_array=np.array([[1,2],[3,4]])\n",
    "second_array=np.array([[1,2],[3,4]])\n",
    "compare(first_array,second_array)"
   ]
  },
  {
   "cell_type": "markdown",
   "id": "1e8f6890",
   "metadata": {},
   "source": [
    "Ques2: Add a border around a NumPy array, as shown in the figure\n",
    "\n",
    "\n",
    "[[1,1,1],\n",
    "\n",
    "[1,1,1],\n",
    "\n",
    "[1,1,1]]\n",
    "\n",
    "Output =\n",
    "\n",
    "[[0,0,0,0,0],\n",
    "\n",
    "[0,1,1,1,0],\n",
    "\n",
    "[0,1,1,1,0],\n",
    "\n",
    "[0,1,1,1,0],\n",
    "\n",
    "[0,0,0,0,0]]\n",
    "\n",
    "        "
   ]
  },
  {
   "cell_type": "code",
   "execution_count": 2,
   "id": "e3cadbaf",
   "metadata": {},
   "outputs": [
    {
     "name": "stdout",
     "output_type": "stream",
     "text": [
      "[[1. 1. 1.]\n",
      " [1. 1. 1.]\n",
      " [1. 1. 1.]]\n",
      "[[0. 0. 0. 0. 0.]\n",
      " [0. 1. 1. 1. 0.]\n",
      " [0. 1. 1. 1. 0.]\n",
      " [0. 1. 1. 1. 0.]\n",
      " [0. 0. 0. 0. 0.]]\n"
     ]
    }
   ],
   "source": [
    "array =np.ones((3,3))\n",
    "print(array)\n",
    "array2=np.pad(array,pad_width=1,mode='constant',constant_values=0)\n",
    "print(array2)"
   ]
  },
  {
   "cell_type": "markdown",
   "id": "793d18dc",
   "metadata": {},
   "source": [
    "Ques3: Calculate the sum of the diagonal elements of a NumPy array\n",
    "\n",
    "n_array = np.array([[55, 25, 15],\n",
    "\n",
    " [30, 44, 2],\n",
    " \n",
    " [11, 45, 77]])"
   ]
  },
  {
   "cell_type": "code",
   "execution_count": 3,
   "id": "b76744a5",
   "metadata": {},
   "outputs": [
    {
     "data": {
      "text/plain": [
       "176"
      ]
     },
     "execution_count": 3,
     "metadata": {},
     "output_type": "execute_result"
    }
   ],
   "source": [
    "n_array = np.array([[55, 25, 15],[30, 44, 2],[11, 45, 77]])\n",
    "diagonal_sum=np.trace(n_array)\n",
    "diagonal_sum"
   ]
  },
  {
   "cell_type": "markdown",
   "id": "d09b2799",
   "metadata": {},
   "source": [
    "Ques4: Get the n-largest values of an array using NumPy\n",
    "Given array: [2 0 1 5 4 1 9]\n",
    "Find first 3 largest values"
   ]
  },
  {
   "cell_type": "code",
   "execution_count": 4,
   "id": "693f415f",
   "metadata": {},
   "outputs": [
    {
     "name": "stdout",
     "output_type": "stream",
     "text": [
      "[2 0 1 5 4 1 9]\n",
      "Three largest values are [4 5 9]\n"
     ]
    }
   ],
   "source": [
    "array=np.array([2,0,1, 5,4,1 ,9])\n",
    "print(array)\n",
    "sort_array=np.sort(array)\n",
    "\n",
    "print(\"Three largest values are\",sort_array[-3:])"
   ]
  },
  {
   "cell_type": "markdown",
   "id": "b0161c25",
   "metadata": {},
   "source": [
    "Ques5: Create a 5X2 integer array from a range between 100 to 200 such that\n",
    "the difference between each element is 10\n",
    "Your O/p should be:\n",
    "    \n",
    "[[100 110]\n",
    "\n",
    " [120 130]\n",
    "\n",
    " [140 150]\n",
    "\n",
    " [160 170]\n",
    "\n",
    " [180 190]]"
   ]
  },
  {
   "cell_type": "code",
   "execution_count": 5,
   "id": "2e84fd40",
   "metadata": {},
   "outputs": [
    {
     "name": "stdout",
     "output_type": "stream",
     "text": [
      "[[100 110]\n",
      " [120 130]\n",
      " [140 150]\n",
      " [160 170]\n",
      " [180 190]]\n"
     ]
    }
   ],
   "source": [
    "array=np.linspace(100,190,10,dtype=int)\n",
    "array=array.reshape((5,2))\n",
    "print(array)"
   ]
  },
  {
   "cell_type": "markdown",
   "id": "dfefbc1f",
   "metadata": {},
   "source": [
    "Ques6: Following is the given numpy array return array of odd rows and even\n",
    "columns\n",
    "\n",
    "Input Array:\n",
    "    \n",
    "[[ 3 6 9 12]\n",
    "\n",
    " [15 18 21 24]\n",
    "\n",
    " [27 30 33 36]\n",
    "\n",
    " [39 42 45 48]\n",
    "\n",
    " [51 54 57 60]]\n",
    "\n",
    "Output array:\n",
    "\n",
    "[[ 6 12]\n",
    "\n",
    "[30 36]\n",
    "\n",
    "[54 60]]"
   ]
  },
  {
   "cell_type": "code",
   "execution_count": 6,
   "id": "563a04bb",
   "metadata": {},
   "outputs": [
    {
     "name": "stdout",
     "output_type": "stream",
     "text": [
      "[[ 3  6  9 12]\n",
      " [15 18 21 24]\n",
      " [27 30 33 36]\n",
      " [39 42 45 48]\n",
      " [51 54 57 60]]\n",
      "[[ 6 12]\n",
      " [30 36]\n",
      " [54 60]]\n"
     ]
    }
   ],
   "source": [
    "array=np.array([[ 3 ,6 ,9 ,12],[15, 18, 21, 24], [27, 30, 33, 36], [39, 42, 45, 48], [51, 54, 57, 60]])\n",
    "print(array)\n",
    "sub_array=array[::2,1::2]\n",
    "print(sub_array)"
   ]
  },
  {
   "cell_type": "markdown",
   "id": "e90a8bc6",
   "metadata": {},
   "source": [
    "Ques 7: Following is the 2-D array. Print max from axis 0 and min from axis 1\n",
    "Original array\n",
    "\n",
    "[[34 43 73]\n",
    "\n",
    "[82 22 12]\n",
    "\n",
    "[53 94 66]]\n",
    "\n",
    "O/P\n",
    "\n",
    "Minimum of Axis 1: [34 12 53]\n",
    "\n",
    "Maximum of Axis 0: [82 94 73]"
   ]
  },
  {
   "cell_type": "code",
   "execution_count": 7,
   "id": "9c2958e2",
   "metadata": {},
   "outputs": [
    {
     "name": "stdout",
     "output_type": "stream",
     "text": [
      "Minimum of Axis 1 [34 12 53]\n",
      "Maximum of Axis 0 [82 94 73]\n"
     ]
    }
   ],
   "source": [
    "array=np.array([[34,43,73],[82,22,12],[53,94,66]])\n",
    "min_axis1=np.amin(array,1)\n",
    "max_axis0=np.amax(array,0)\n",
    "print(\"Minimum of Axis 1\",min_axis1)\n",
    "print(\"Maximum of Axis 0\",max_axis0)"
   ]
  },
  {
   "cell_type": "markdown",
   "id": "0d2d7af5",
   "metadata": {},
   "source": [
    "Ques8: Following is the input NumPy array delete column two and insert\n",
    "following new column in its place.\n",
    "\n",
    "Original Array\n",
    "\n",
    "[[34 43 73]\n",
    "\n",
    "[82 22 12]\n",
    "\n",
    "[53 94 66]]\n",
    "\n",
    "Required O/P\n",
    "\n",
    "[[34 10 73]\n",
    "\n",
    "[82 10 12]\n",
    "\n",
    "[53 10 66]]"
   ]
  },
  {
   "cell_type": "code",
   "execution_count": 8,
   "id": "c6b6d618",
   "metadata": {},
   "outputs": [
    {
     "name": "stdout",
     "output_type": "stream",
     "text": [
      "[[34 10 73]\n",
      " [82 10 12]\n",
      " [53 10 66]]\n"
     ]
    }
   ],
   "source": [
    "array=np.array([[34,43,73],[82,22,12],[53,94,66]])\n",
    "array=np.delete(array,1,axis=1)\n",
    "new_column=np.array([10,10,10])\n",
    "array=np.insert(array,1,new_column,axis=1)\n",
    "print(array)"
   ]
  },
  {
   "cell_type": "markdown",
   "id": "bf1b85e1",
   "metadata": {},
   "source": [
    "Ques9: Remove those elements from one array that exist in another array?\n",
    "(without loop)\n",
    "Input\n",
    "\n",
    "a = np.array([1,2,3,4,5])\n",
    "\n",
    "b = np.array([5,6,7,8,9])\n",
    "\n",
    "Output\n",
    "\n",
    "array([1,2,3,4])"
   ]
  },
  {
   "cell_type": "code",
   "execution_count": 9,
   "id": "beae62a6",
   "metadata": {},
   "outputs": [
    {
     "name": "stdout",
     "output_type": "stream",
     "text": [
      "1 2 3 4 "
     ]
    }
   ],
   "source": [
    "a = np.array([1,2,3,4,5])\n",
    "\n",
    "b = np.array([5,6,7,8,9])\n",
    "s=dict()\n",
    "for i in range(len(b)):\n",
    "    s[b[i]]=1\n",
    "for i in range(len(a)):\n",
    "    if a[i] not in s.keys():\n",
    "        print(a[i],end=\" \")\n"
   ]
  },
  {
   "cell_type": "code",
   "execution_count": 10,
   "id": "1e702d8b",
   "metadata": {},
   "outputs": [
    {
     "name": "stdout",
     "output_type": "stream",
     "text": [
      "[1 2 3 4]\n"
     ]
    }
   ],
   "source": [
    "## Another method\n",
    "set_d=np.setdiff1d(a,b)\n",
    "print(set_d)"
   ]
  },
  {
   "cell_type": "markdown",
   "id": "ed4ebf63",
   "metadata": {},
   "source": [
    "Ques10: Normalize the values of the numpy array (i.e it means each element\n",
    "should be between 0 & 1)?"
   ]
  },
  {
   "cell_type": "code",
   "execution_count": 11,
   "id": "63beb700",
   "metadata": {},
   "outputs": [
    {
     "name": "stdout",
     "output_type": "stream",
     "text": [
      "[0.36781609 0.62068966 0.         0.06896552 0.08045977 0.74712644\n",
      " 0.02298851 0.03448276 0.49425287 0.74712644 1.        ]\n"
     ]
    }
   ],
   "source": [
    "array=np.array([34,56,2,8,9,67,4,5,45,67,89])\n",
    "minn,maxx=array.min(),array.max()\n",
    "normalise=(array-minn)/(maxx-minn)\n",
    "print(normalise)\n",
    "#print(maxx,minn)"
   ]
  },
  {
   "cell_type": "markdown",
   "id": "d31284fb",
   "metadata": {},
   "source": [
    "Ques11: Replace all the missing values of the numpy array with 0?\n",
    "arr = np.array([[125, np.NaN, 514, np.NaN, np.NaN, 12],\n",
    " [np.NaN, 13, 45, 59, 28, np.NaN]])"
   ]
  },
  {
   "cell_type": "code",
   "execution_count": 12,
   "id": "ad140b3a",
   "metadata": {},
   "outputs": [
    {
     "name": "stdout",
     "output_type": "stream",
     "text": [
      "[[125.   0. 514.   0.   0.  12.]\n",
      " [  0.  13.  45.  59.  28.   0.]]\n"
     ]
    }
   ],
   "source": [
    "arr = np.array([[125, np.NaN, 514, np.NaN, np.NaN, 12],[np.NaN, 13, 45, 59, 28, np.NaN]])\n",
    "print(np.nan_to_num(arr))"
   ]
  },
  {
   "cell_type": "markdown",
   "id": "3f09a0cc",
   "metadata": {},
   "source": [
    "Ques12: Convert an Array of arrays to flat 1D array? (with loop and without loop)\n",
    "Input:\n",
    "arr = [[0 1 2]\n",
    "[3 4 5]\n",
    "[6 7 8]]\n",
    "Output: array([0,1,2,3,4,5,6,7,8,9])"
   ]
  },
  {
   "cell_type": "code",
   "execution_count": 13,
   "id": "313e58b0",
   "metadata": {},
   "outputs": [
    {
     "name": "stdout",
     "output_type": "stream",
     "text": [
      "[0 1 2 3 4 5 6 7 8]\n"
     ]
    }
   ],
   "source": [
    "arr = np.array([[0, 1, 2],[3, 4, 5],[6, 7, 8]])\n",
    "print(arr.flatten())"
   ]
  },
  {
   "cell_type": "code",
   "execution_count": 14,
   "id": "b238e621",
   "metadata": {},
   "outputs": [
    {
     "name": "stdout",
     "output_type": "stream",
     "text": [
      "[0, 1, 2, 3, 4, 5, 6, 7, 8]\n"
     ]
    }
   ],
   "source": [
    "arr = np.array([[0, 1, 2],[3, 4, 5],[6, 7, 8]])\n",
    "arr1=[]\n",
    "for i in arr:\n",
    "    for j in i:\n",
    "        arr1.append(j)\n",
    "print(arr1)"
   ]
  },
  {
   "cell_type": "markdown",
   "id": "99942169",
   "metadata": {},
   "source": [
    "Ques13: Convert any Image to Numpy Array and Vice versa?"
   ]
  },
  {
   "cell_type": "code",
   "execution_count": 15,
   "id": "b8916a8c",
   "metadata": {},
   "outputs": [
    {
     "name": "stdout",
     "output_type": "stream",
     "text": [
      "(440, 394) RGBA PNG\n",
      "<class 'numpy.ndarray'>\n",
      "(394, 440, 4)\n",
      "[[[255 255 255 255]\n",
      "  [255 255 255 255]\n",
      "  [255 255 255 255]\n",
      "  ...\n",
      "  [255 255 255 255]\n",
      "  [255 255 255 255]\n",
      "  [255 255 255 255]]\n",
      "\n",
      " [[255 255 255 255]\n",
      "  [255 255 255 255]\n",
      "  [255 255 255 255]\n",
      "  ...\n",
      "  [255 255 255 255]\n",
      "  [255 255 255 255]\n",
      "  [255 255 255 255]]\n",
      "\n",
      " [[255 255 255 255]\n",
      "  [255 255 255 255]\n",
      "  [255 255 255 255]\n",
      "  ...\n",
      "  [255 255 255 255]\n",
      "  [255 255 255 255]\n",
      "  [255 255 255 255]]\n",
      "\n",
      " ...\n",
      "\n",
      " [[255 255 255 255]\n",
      "  [255 255 255 255]\n",
      "  [255 255 255 255]\n",
      "  ...\n",
      "  [255 255 255 255]\n",
      "  [255 255 255 255]\n",
      "  [255 255 255 255]]\n",
      "\n",
      " [[255 255 255 255]\n",
      "  [255 255 255 255]\n",
      "  [255 255 255 255]\n",
      "  ...\n",
      "  [255 255 255 255]\n",
      "  [255 255 255 255]\n",
      "  [255 255 255 255]]\n",
      "\n",
      " [[255 255 255 255]\n",
      "  [255 255 255 255]\n",
      "  [255 255 255 255]\n",
      "  ...\n",
      "  [255 255 255 255]\n",
      "  [255 255 255 255]\n",
      "  [255 255 255 255]]]\n"
     ]
    }
   ],
   "source": [
    "from PIL import Image\n",
    "from numpy import asarray\n",
    "img=Image.open(\"GndecLogo.png\")\n",
    "print(img.size,img.mode,img.format)\n",
    "np_data=asarray(img)\n",
    "print(type(np_data))\n",
    "print(np_data.shape)\n",
    "print(np_data)"
   ]
  },
  {
   "cell_type": "markdown",
   "id": "498b132f",
   "metadata": {},
   "source": [
    "Ques14: Compute Euclidean Distance b/w 2 arrays? (without using inbuilt\n",
    "function i.e. do not use np.linalg.norm)"
   ]
  },
  {
   "cell_type": "code",
   "execution_count": 16,
   "id": "315d36b6",
   "metadata": {},
   "outputs": [
    {
     "name": "stdout",
     "output_type": "stream",
     "text": [
      "3.0\n"
     ]
    }
   ],
   "source": [
    "point1=np.array([4,2,3])\n",
    "point2=np.array([2,1,1])\n",
    "sum_sq = np.sum(np.square(point1 - point2))\n",
    "print(np.sqrt(sum_sq))\n"
   ]
  },
  {
   "cell_type": "code",
   "execution_count": null,
   "id": "383a3d05",
   "metadata": {},
   "outputs": [],
   "source": []
  }
 ],
 "metadata": {
  "kernelspec": {
   "display_name": "Python 3",
   "language": "python",
   "name": "python3"
  },
  "language_info": {
   "codemirror_mode": {
    "name": "ipython",
    "version": 3
   },
   "file_extension": ".py",
   "mimetype": "text/x-python",
   "name": "python",
   "nbconvert_exporter": "python",
   "pygments_lexer": "ipython3",
   "version": "3.7.10"
  }
 },
 "nbformat": 4,
 "nbformat_minor": 5
}
